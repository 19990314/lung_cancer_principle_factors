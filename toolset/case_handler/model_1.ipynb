{
 "cells": [
  {
   "cell_type": "code",
   "execution_count": 52,
   "metadata": {
    "collapsed": true
   },
   "outputs": [
    {
     "data": {
      "text/plain": "'/Users/iris/Desktop/LCPF/toolset/case_handler'"
     },
     "execution_count": 52,
     "metadata": {},
     "output_type": "execute_result"
    }
   ],
   "source": [
    "from patient_info import *\n",
    "from toolset.io_handler.logger import check_path_with_log\n",
    "\n",
    "import os\n",
    "os.getcwd()"
   ]
  },
  {
   "cell_type": "code",
   "execution_count": 37,
   "outputs": [
    {
     "data": {
      "text/plain": "   Unnamed: 0.1  Unnamed: 0          Cart  \\\n0             0           0  Case Actions   \n1             1           1  Case Actions   \n2             2           2  Case Actions   \n3             3           3  Case Actions   \n4             4           4  Case Actions   \n\n                              Case UUID       Case ID       Primary Site  \\\n0  a5f2576a-d628-47de-a5df-76a4f3105dcc  TCGA-L9-A743  Bronchus and lung   \n1  c4c1469d-752f-42b6-8686-714ad4a8ac97  TCGA-75-6206  Bronchus and lung   \n2  8d0736fe-261c-445c-bfd2-a3ea3ceaf367  TCGA-55-6971  Bronchus and lung   \n3  33c71ead-4c2a-476d-85ef-885dbbfc2cbd  TCGA-44-6774  Bronchus and lung   \n4  f77b6930-a1ce-446e-a15d-c018cbbecfee  TCGA-49-4510  Bronchus and lung   \n\n   Gender  Files  Seq  Exp  ...  Program                  Disease Type  \\\n0    Male     69    6    4  ...     TCGA  Adenomas and Adenocarcinomas   \n1    Male     70    8    4  ...     TCGA  Adenomas and Adenocarcinomas   \n2  Female     79    9    6  ...     TCGA  Adenomas and Adenocarcinomas   \n3  Female     75    9    4  ...     TCGA  Adenomas and Adenocarcinomas   \n4  Female     79   10    4  ...     TCGA  Adenomas and Adenocarcinomas   \n\n    Age at diagnosis     Days to death  Vital Status    Primary Diagnosis  \\\n0  56 years 326 days                --         Alive  Adenocarcinoma, NOS   \n1                 --                --         Alive  Adenocarcinoma, NOS   \n2  59 years 185 days                --         Alive  Adenocarcinoma, NOS   \n3    56 years 8 days                --         Alive  Adenocarcinoma, NOS   \n4  51 years 135 days  2 years 166 days          Dead  Adenocarcinoma, NOS   \n\n                Ethnicity                       Race  \\\n0  not hispanic or latino  black or african american   \n1            not reported               not reported   \n2            not reported                      white   \n3  not hispanic or latino                      white   \n4  not hispanic or latino  black or african american   \n\n                                             RNA_Seq  \\\n0  51847dea-489f-4df9-84f8-26a6f2579620/35a9d225-...   \n1  9123a775-d686-49ab-90e7-0dc572c2fcaf/7643fc1a-...   \n2  c36f84e5-8c59-46fe-af32-7f70684383b2/07a66ae7-...   \n3  3cd897bd-893e-4497-b9a5-56141816cff4/525e9185-...   \n4  951f2356-17f4-4f4f-a8ec-855c7e93dce1/7eab2708-...   \n\n                                                 WXS  \n0  4b20d50c-f569-4703-93ec-584c267e3fdf/0ef89e1c-...  \n1  1ce62e4b-ba0b-4410-a508-569d44de1f4b/7bba1178-...  \n2  99eeb9be-e2d0-48e3-9940-daf1aee705e4/8383e3da-...  \n3  80f7616d-b100-45a1-92c5-e804690ccbd6/3fa65836-...  \n4  0da50c40-ffa7-4bfc-8e87-02d456940500/285301af-...  \n\n[5 rows x 26 columns]",
      "text/html": "<div>\n<style scoped>\n    .dataframe tbody tr th:only-of-type {\n        vertical-align: middle;\n    }\n\n    .dataframe tbody tr th {\n        vertical-align: top;\n    }\n\n    .dataframe thead th {\n        text-align: right;\n    }\n</style>\n<table border=\"1\" class=\"dataframe\">\n  <thead>\n    <tr style=\"text-align: right;\">\n      <th></th>\n      <th>Unnamed: 0.1</th>\n      <th>Unnamed: 0</th>\n      <th>Cart</th>\n      <th>Case UUID</th>\n      <th>Case ID</th>\n      <th>Primary Site</th>\n      <th>Gender</th>\n      <th>Files</th>\n      <th>Seq</th>\n      <th>Exp</th>\n      <th>...</th>\n      <th>Program</th>\n      <th>Disease Type</th>\n      <th>Age at diagnosis</th>\n      <th>Days to death</th>\n      <th>Vital Status</th>\n      <th>Primary Diagnosis</th>\n      <th>Ethnicity</th>\n      <th>Race</th>\n      <th>RNA_Seq</th>\n      <th>WXS</th>\n    </tr>\n  </thead>\n  <tbody>\n    <tr>\n      <th>0</th>\n      <td>0</td>\n      <td>0</td>\n      <td>Case Actions</td>\n      <td>a5f2576a-d628-47de-a5df-76a4f3105dcc</td>\n      <td>TCGA-L9-A743</td>\n      <td>Bronchus and lung</td>\n      <td>Male</td>\n      <td>69</td>\n      <td>6</td>\n      <td>4</td>\n      <td>...</td>\n      <td>TCGA</td>\n      <td>Adenomas and Adenocarcinomas</td>\n      <td>56 years 326 days</td>\n      <td>--</td>\n      <td>Alive</td>\n      <td>Adenocarcinoma, NOS</td>\n      <td>not hispanic or latino</td>\n      <td>black or african american</td>\n      <td>51847dea-489f-4df9-84f8-26a6f2579620/35a9d225-...</td>\n      <td>4b20d50c-f569-4703-93ec-584c267e3fdf/0ef89e1c-...</td>\n    </tr>\n    <tr>\n      <th>1</th>\n      <td>1</td>\n      <td>1</td>\n      <td>Case Actions</td>\n      <td>c4c1469d-752f-42b6-8686-714ad4a8ac97</td>\n      <td>TCGA-75-6206</td>\n      <td>Bronchus and lung</td>\n      <td>Male</td>\n      <td>70</td>\n      <td>8</td>\n      <td>4</td>\n      <td>...</td>\n      <td>TCGA</td>\n      <td>Adenomas and Adenocarcinomas</td>\n      <td>--</td>\n      <td>--</td>\n      <td>Alive</td>\n      <td>Adenocarcinoma, NOS</td>\n      <td>not reported</td>\n      <td>not reported</td>\n      <td>9123a775-d686-49ab-90e7-0dc572c2fcaf/7643fc1a-...</td>\n      <td>1ce62e4b-ba0b-4410-a508-569d44de1f4b/7bba1178-...</td>\n    </tr>\n    <tr>\n      <th>2</th>\n      <td>2</td>\n      <td>2</td>\n      <td>Case Actions</td>\n      <td>8d0736fe-261c-445c-bfd2-a3ea3ceaf367</td>\n      <td>TCGA-55-6971</td>\n      <td>Bronchus and lung</td>\n      <td>Female</td>\n      <td>79</td>\n      <td>9</td>\n      <td>6</td>\n      <td>...</td>\n      <td>TCGA</td>\n      <td>Adenomas and Adenocarcinomas</td>\n      <td>59 years 185 days</td>\n      <td>--</td>\n      <td>Alive</td>\n      <td>Adenocarcinoma, NOS</td>\n      <td>not reported</td>\n      <td>white</td>\n      <td>c36f84e5-8c59-46fe-af32-7f70684383b2/07a66ae7-...</td>\n      <td>99eeb9be-e2d0-48e3-9940-daf1aee705e4/8383e3da-...</td>\n    </tr>\n    <tr>\n      <th>3</th>\n      <td>3</td>\n      <td>3</td>\n      <td>Case Actions</td>\n      <td>33c71ead-4c2a-476d-85ef-885dbbfc2cbd</td>\n      <td>TCGA-44-6774</td>\n      <td>Bronchus and lung</td>\n      <td>Female</td>\n      <td>75</td>\n      <td>9</td>\n      <td>4</td>\n      <td>...</td>\n      <td>TCGA</td>\n      <td>Adenomas and Adenocarcinomas</td>\n      <td>56 years 8 days</td>\n      <td>--</td>\n      <td>Alive</td>\n      <td>Adenocarcinoma, NOS</td>\n      <td>not hispanic or latino</td>\n      <td>white</td>\n      <td>3cd897bd-893e-4497-b9a5-56141816cff4/525e9185-...</td>\n      <td>80f7616d-b100-45a1-92c5-e804690ccbd6/3fa65836-...</td>\n    </tr>\n    <tr>\n      <th>4</th>\n      <td>4</td>\n      <td>4</td>\n      <td>Case Actions</td>\n      <td>f77b6930-a1ce-446e-a15d-c018cbbecfee</td>\n      <td>TCGA-49-4510</td>\n      <td>Bronchus and lung</td>\n      <td>Female</td>\n      <td>79</td>\n      <td>10</td>\n      <td>4</td>\n      <td>...</td>\n      <td>TCGA</td>\n      <td>Adenomas and Adenocarcinomas</td>\n      <td>51 years 135 days</td>\n      <td>2 years 166 days</td>\n      <td>Dead</td>\n      <td>Adenocarcinoma, NOS</td>\n      <td>not hispanic or latino</td>\n      <td>black or african american</td>\n      <td>951f2356-17f4-4f4f-a8ec-855c7e93dce1/7eab2708-...</td>\n      <td>0da50c40-ffa7-4bfc-8e87-02d456940500/285301af-...</td>\n    </tr>\n  </tbody>\n</table>\n<p>5 rows × 26 columns</p>\n</div>"
     },
     "execution_count": 37,
     "metadata": {},
     "output_type": "execute_result"
    }
   ],
   "source": [
    "# read table: one patient per row\n",
    "expression_root_dir = tcga_path + \"/gene_expression_and_mutation/\"\n",
    "assmbled_info = get_assembled_table()\n",
    "assmbled_info.head()"
   ],
   "metadata": {
    "collapsed": false
   }
  },
  {
   "cell_type": "code",
   "execution_count": 48,
   "outputs": [],
   "source": [
    "def encode_expression(exp_dir):\n",
    "    # read expression data\n",
    "    expression_table = pd.read_csv(exp_dir, sep=\"\\t\")\n",
    "    print(exp_dir)\n"
   ],
   "metadata": {
    "collapsed": false
   }
  },
  {
   "cell_type": "code",
   "execution_count": 55,
   "outputs": [],
   "source": [
    "def process_row(patient):\n",
    "    # get basic info\n",
    "    #print(patient)\n",
    "\n",
    "    # get expression file path\n",
    "    exp_dir = expression_root_dir + patient[\"RNA_Seq\"]\n",
    "    exist_flag, message = check_path_with_log(exp_dir)\n",
    "    print(message) # log later\n",
    "\n",
    "    # get content\n",
    "    if exist_flag:\n",
    "        expression_df = pd.read_csv(exp_dir, skiprows=1, sep=\"\\t\")\n",
    "\n",
    "\n",
    "    return expression_df\n",
    "\n",
    "\n"
   ],
   "metadata": {
    "collapsed": false
   }
  },
  {
   "cell_type": "code",
   "execution_count": 59,
   "outputs": [
    {
     "name": "stdout",
     "output_type": "stream",
     "text": [
      "VALID FILE: /Users/iris/Desktop/LCPF/tcga_db//gene_expression_and_mutation/51847dea-489f-4df9-84f8-26a6f2579620/35a9d225-0988-4e31-9a39-d54f3a63bea8.rna_seq.augmented_star_gene_counts.tsv\n"
     ]
    },
    {
     "data": {
      "text/plain": "              gene_id gene_name       gene_type  unstranded  stranded_first  \\\n0          N_unmapped       NaN             NaN     3485913         3485913   \n1      N_multimapping       NaN             NaN     6112198         6112198   \n2         N_noFeature       NaN             NaN     3489107        28212146   \n3         N_ambiguous       NaN             NaN     5256165         1403606   \n4  ENSG00000000003.15    TSPAN6  protein_coding        2559            1279   \n5   ENSG00000000005.6      TNMD  protein_coding           1               1   \n6  ENSG00000000419.13      DPM1  protein_coding        1415             752   \n7  ENSG00000000457.14     SCYL3  protein_coding         561             444   \n8  ENSG00000000460.17  C1orf112  protein_coding         336             328   \n9  ENSG00000000938.13       FGR  protein_coding        1778             894   \n\n   stranded_second  tpm_unstranded  fpkm_unstranded  fpkm_uq_unstranded  \n0          3485913             NaN              NaN                 NaN  \n1          6112198             NaN              NaN                 NaN  \n2         28316385             NaN              NaN                 NaN  \n3          1400147             NaN              NaN                 NaN  \n4             1280         35.4834          13.1692             12.9690  \n5                0          0.0426           0.0158              0.0156  \n6              663         73.7356          27.3661             26.9499  \n7              451          5.1264           1.9026              1.8737  \n8              369          3.5399           1.3138              1.2938  \n9              884         33.0663          12.2722             12.0855  ",
      "text/html": "<div>\n<style scoped>\n    .dataframe tbody tr th:only-of-type {\n        vertical-align: middle;\n    }\n\n    .dataframe tbody tr th {\n        vertical-align: top;\n    }\n\n    .dataframe thead th {\n        text-align: right;\n    }\n</style>\n<table border=\"1\" class=\"dataframe\">\n  <thead>\n    <tr style=\"text-align: right;\">\n      <th></th>\n      <th>gene_id</th>\n      <th>gene_name</th>\n      <th>gene_type</th>\n      <th>unstranded</th>\n      <th>stranded_first</th>\n      <th>stranded_second</th>\n      <th>tpm_unstranded</th>\n      <th>fpkm_unstranded</th>\n      <th>fpkm_uq_unstranded</th>\n    </tr>\n  </thead>\n  <tbody>\n    <tr>\n      <th>0</th>\n      <td>N_unmapped</td>\n      <td>NaN</td>\n      <td>NaN</td>\n      <td>3485913</td>\n      <td>3485913</td>\n      <td>3485913</td>\n      <td>NaN</td>\n      <td>NaN</td>\n      <td>NaN</td>\n    </tr>\n    <tr>\n      <th>1</th>\n      <td>N_multimapping</td>\n      <td>NaN</td>\n      <td>NaN</td>\n      <td>6112198</td>\n      <td>6112198</td>\n      <td>6112198</td>\n      <td>NaN</td>\n      <td>NaN</td>\n      <td>NaN</td>\n    </tr>\n    <tr>\n      <th>2</th>\n      <td>N_noFeature</td>\n      <td>NaN</td>\n      <td>NaN</td>\n      <td>3489107</td>\n      <td>28212146</td>\n      <td>28316385</td>\n      <td>NaN</td>\n      <td>NaN</td>\n      <td>NaN</td>\n    </tr>\n    <tr>\n      <th>3</th>\n      <td>N_ambiguous</td>\n      <td>NaN</td>\n      <td>NaN</td>\n      <td>5256165</td>\n      <td>1403606</td>\n      <td>1400147</td>\n      <td>NaN</td>\n      <td>NaN</td>\n      <td>NaN</td>\n    </tr>\n    <tr>\n      <th>4</th>\n      <td>ENSG00000000003.15</td>\n      <td>TSPAN6</td>\n      <td>protein_coding</td>\n      <td>2559</td>\n      <td>1279</td>\n      <td>1280</td>\n      <td>35.4834</td>\n      <td>13.1692</td>\n      <td>12.9690</td>\n    </tr>\n    <tr>\n      <th>5</th>\n      <td>ENSG00000000005.6</td>\n      <td>TNMD</td>\n      <td>protein_coding</td>\n      <td>1</td>\n      <td>1</td>\n      <td>0</td>\n      <td>0.0426</td>\n      <td>0.0158</td>\n      <td>0.0156</td>\n    </tr>\n    <tr>\n      <th>6</th>\n      <td>ENSG00000000419.13</td>\n      <td>DPM1</td>\n      <td>protein_coding</td>\n      <td>1415</td>\n      <td>752</td>\n      <td>663</td>\n      <td>73.7356</td>\n      <td>27.3661</td>\n      <td>26.9499</td>\n    </tr>\n    <tr>\n      <th>7</th>\n      <td>ENSG00000000457.14</td>\n      <td>SCYL3</td>\n      <td>protein_coding</td>\n      <td>561</td>\n      <td>444</td>\n      <td>451</td>\n      <td>5.1264</td>\n      <td>1.9026</td>\n      <td>1.8737</td>\n    </tr>\n    <tr>\n      <th>8</th>\n      <td>ENSG00000000460.17</td>\n      <td>C1orf112</td>\n      <td>protein_coding</td>\n      <td>336</td>\n      <td>328</td>\n      <td>369</td>\n      <td>3.5399</td>\n      <td>1.3138</td>\n      <td>1.2938</td>\n    </tr>\n    <tr>\n      <th>9</th>\n      <td>ENSG00000000938.13</td>\n      <td>FGR</td>\n      <td>protein_coding</td>\n      <td>1778</td>\n      <td>894</td>\n      <td>884</td>\n      <td>33.0663</td>\n      <td>12.2722</td>\n      <td>12.0855</td>\n    </tr>\n  </tbody>\n</table>\n</div>"
     },
     "execution_count": 59,
     "metadata": {},
     "output_type": "execute_result"
    }
   ],
   "source": [
    "# for every patient\n",
    "for index, patient in assmbled_info[0:1].iterrows():\n",
    "    encoded = process_row(patient)\n",
    "\n",
    "encoded.head(10)\n"
   ],
   "metadata": {
    "collapsed": false
   }
  },
  {
   "cell_type": "code",
   "execution_count": 28,
   "outputs": [],
   "source": [],
   "metadata": {
    "collapsed": false
   }
  },
  {
   "cell_type": "code",
   "execution_count": null,
   "outputs": [],
   "source": [],
   "metadata": {
    "collapsed": false
   }
  }
 ],
 "metadata": {
  "kernelspec": {
   "display_name": "Python 3",
   "language": "python",
   "name": "python3"
  },
  "language_info": {
   "codemirror_mode": {
    "name": "ipython",
    "version": 2
   },
   "file_extension": ".py",
   "mimetype": "text/x-python",
   "name": "python",
   "nbconvert_exporter": "python",
   "pygments_lexer": "ipython2",
   "version": "2.7.6"
  }
 },
 "nbformat": 4,
 "nbformat_minor": 0
}
