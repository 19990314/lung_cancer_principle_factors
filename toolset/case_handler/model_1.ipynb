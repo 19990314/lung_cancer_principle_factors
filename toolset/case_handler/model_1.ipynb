{
 "cells": [
  {
   "cell_type": "code",
   "execution_count": 29,
   "metadata": {
    "collapsed": true
   },
   "outputs": [
    {
     "ename": "ImportError",
     "evalue": "cannot import name 'check_path_with_log' from 'toolset.io_handler.file_error' (/Users/iris/Desktop/LCPF/toolset/io_handler/file_error.py)",
     "output_type": "error",
     "traceback": [
      "\u001B[0;31m---------------------------------------------------------------------------\u001B[0m",
      "\u001B[0;31mImportError\u001B[0m                               Traceback (most recent call last)",
      "Input \u001B[0;32mIn [29]\u001B[0m, in \u001B[0;36m<cell line: 2>\u001B[0;34m()\u001B[0m\n\u001B[1;32m      1\u001B[0m \u001B[38;5;28;01mfrom\u001B[39;00m \u001B[38;5;21;01mpatient_info\u001B[39;00m \u001B[38;5;28;01mimport\u001B[39;00m \u001B[38;5;241m*\u001B[39m\n\u001B[0;32m----> 2\u001B[0m \u001B[38;5;28;01mfrom\u001B[39;00m \u001B[38;5;21;01mtoolset\u001B[39;00m\u001B[38;5;21;01m.\u001B[39;00m\u001B[38;5;21;01mio_handler\u001B[39;00m\u001B[38;5;21;01m.\u001B[39;00m\u001B[38;5;21;01mfile_error\u001B[39;00m \u001B[38;5;28;01mimport\u001B[39;00m check_path_with_log\n",
      "\u001B[0;31mImportError\u001B[0m: cannot import name 'check_path_with_log' from 'toolset.io_handler.file_error' (/Users/iris/Desktop/LCPF/toolset/io_handler/file_error.py)"
     ]
    }
   ],
   "source": [
    "from patient_info import *\n",
    "from toolset.io_handler import *"
   ]
  },
  {
   "cell_type": "code",
   "execution_count": 25,
   "outputs": [
    {
     "data": {
      "text/plain": "   Unnamed: 0.1  Unnamed: 0          Cart  \\\n0             0           0  Case Actions   \n1             1           1  Case Actions   \n2             2           2  Case Actions   \n3             3           3  Case Actions   \n4             4           4  Case Actions   \n\n                              Case UUID       Case ID       Primary Site  \\\n0  a5f2576a-d628-47de-a5df-76a4f3105dcc  TCGA-L9-A743  Bronchus and lung   \n1  c4c1469d-752f-42b6-8686-714ad4a8ac97  TCGA-75-6206  Bronchus and lung   \n2  8d0736fe-261c-445c-bfd2-a3ea3ceaf367  TCGA-55-6971  Bronchus and lung   \n3  33c71ead-4c2a-476d-85ef-885dbbfc2cbd  TCGA-44-6774  Bronchus and lung   \n4  f77b6930-a1ce-446e-a15d-c018cbbecfee  TCGA-49-4510  Bronchus and lung   \n\n   Gender  Files  Seq  Exp  ...  Program                  Disease Type  \\\n0    Male     69    6    4  ...     TCGA  Adenomas and Adenocarcinomas   \n1    Male     70    8    4  ...     TCGA  Adenomas and Adenocarcinomas   \n2  Female     79    9    6  ...     TCGA  Adenomas and Adenocarcinomas   \n3  Female     75    9    4  ...     TCGA  Adenomas and Adenocarcinomas   \n4  Female     79   10    4  ...     TCGA  Adenomas and Adenocarcinomas   \n\n    Age at diagnosis     Days to death  Vital Status    Primary Diagnosis  \\\n0  56 years 326 days                --         Alive  Adenocarcinoma, NOS   \n1                 --                --         Alive  Adenocarcinoma, NOS   \n2  59 years 185 days                --         Alive  Adenocarcinoma, NOS   \n3    56 years 8 days                --         Alive  Adenocarcinoma, NOS   \n4  51 years 135 days  2 years 166 days          Dead  Adenocarcinoma, NOS   \n\n                Ethnicity                       Race  \\\n0  not hispanic or latino  black or african american   \n1            not reported               not reported   \n2            not reported                      white   \n3  not hispanic or latino                      white   \n4  not hispanic or latino  black or african american   \n\n                                             RNA_Seq  \\\n0  51847dea-489f-4df9-84f8-26a6f2579620/35a9d225-...   \n1  9123a775-d686-49ab-90e7-0dc572c2fcaf/7643fc1a-...   \n2  c36f84e5-8c59-46fe-af32-7f70684383b2/07a66ae7-...   \n3  3cd897bd-893e-4497-b9a5-56141816cff4/525e9185-...   \n4  951f2356-17f4-4f4f-a8ec-855c7e93dce1/7eab2708-...   \n\n                                                 WXS  \n0  4b20d50c-f569-4703-93ec-584c267e3fdf/0ef89e1c-...  \n1  1ce62e4b-ba0b-4410-a508-569d44de1f4b/7bba1178-...  \n2  99eeb9be-e2d0-48e3-9940-daf1aee705e4/8383e3da-...  \n3  80f7616d-b100-45a1-92c5-e804690ccbd6/3fa65836-...  \n4  0da50c40-ffa7-4bfc-8e87-02d456940500/285301af-...  \n\n[5 rows x 26 columns]",
      "text/html": "<div>\n<style scoped>\n    .dataframe tbody tr th:only-of-type {\n        vertical-align: middle;\n    }\n\n    .dataframe tbody tr th {\n        vertical-align: top;\n    }\n\n    .dataframe thead th {\n        text-align: right;\n    }\n</style>\n<table border=\"1\" class=\"dataframe\">\n  <thead>\n    <tr style=\"text-align: right;\">\n      <th></th>\n      <th>Unnamed: 0.1</th>\n      <th>Unnamed: 0</th>\n      <th>Cart</th>\n      <th>Case UUID</th>\n      <th>Case ID</th>\n      <th>Primary Site</th>\n      <th>Gender</th>\n      <th>Files</th>\n      <th>Seq</th>\n      <th>Exp</th>\n      <th>...</th>\n      <th>Program</th>\n      <th>Disease Type</th>\n      <th>Age at diagnosis</th>\n      <th>Days to death</th>\n      <th>Vital Status</th>\n      <th>Primary Diagnosis</th>\n      <th>Ethnicity</th>\n      <th>Race</th>\n      <th>RNA_Seq</th>\n      <th>WXS</th>\n    </tr>\n  </thead>\n  <tbody>\n    <tr>\n      <th>0</th>\n      <td>0</td>\n      <td>0</td>\n      <td>Case Actions</td>\n      <td>a5f2576a-d628-47de-a5df-76a4f3105dcc</td>\n      <td>TCGA-L9-A743</td>\n      <td>Bronchus and lung</td>\n      <td>Male</td>\n      <td>69</td>\n      <td>6</td>\n      <td>4</td>\n      <td>...</td>\n      <td>TCGA</td>\n      <td>Adenomas and Adenocarcinomas</td>\n      <td>56 years 326 days</td>\n      <td>--</td>\n      <td>Alive</td>\n      <td>Adenocarcinoma, NOS</td>\n      <td>not hispanic or latino</td>\n      <td>black or african american</td>\n      <td>51847dea-489f-4df9-84f8-26a6f2579620/35a9d225-...</td>\n      <td>4b20d50c-f569-4703-93ec-584c267e3fdf/0ef89e1c-...</td>\n    </tr>\n    <tr>\n      <th>1</th>\n      <td>1</td>\n      <td>1</td>\n      <td>Case Actions</td>\n      <td>c4c1469d-752f-42b6-8686-714ad4a8ac97</td>\n      <td>TCGA-75-6206</td>\n      <td>Bronchus and lung</td>\n      <td>Male</td>\n      <td>70</td>\n      <td>8</td>\n      <td>4</td>\n      <td>...</td>\n      <td>TCGA</td>\n      <td>Adenomas and Adenocarcinomas</td>\n      <td>--</td>\n      <td>--</td>\n      <td>Alive</td>\n      <td>Adenocarcinoma, NOS</td>\n      <td>not reported</td>\n      <td>not reported</td>\n      <td>9123a775-d686-49ab-90e7-0dc572c2fcaf/7643fc1a-...</td>\n      <td>1ce62e4b-ba0b-4410-a508-569d44de1f4b/7bba1178-...</td>\n    </tr>\n    <tr>\n      <th>2</th>\n      <td>2</td>\n      <td>2</td>\n      <td>Case Actions</td>\n      <td>8d0736fe-261c-445c-bfd2-a3ea3ceaf367</td>\n      <td>TCGA-55-6971</td>\n      <td>Bronchus and lung</td>\n      <td>Female</td>\n      <td>79</td>\n      <td>9</td>\n      <td>6</td>\n      <td>...</td>\n      <td>TCGA</td>\n      <td>Adenomas and Adenocarcinomas</td>\n      <td>59 years 185 days</td>\n      <td>--</td>\n      <td>Alive</td>\n      <td>Adenocarcinoma, NOS</td>\n      <td>not reported</td>\n      <td>white</td>\n      <td>c36f84e5-8c59-46fe-af32-7f70684383b2/07a66ae7-...</td>\n      <td>99eeb9be-e2d0-48e3-9940-daf1aee705e4/8383e3da-...</td>\n    </tr>\n    <tr>\n      <th>3</th>\n      <td>3</td>\n      <td>3</td>\n      <td>Case Actions</td>\n      <td>33c71ead-4c2a-476d-85ef-885dbbfc2cbd</td>\n      <td>TCGA-44-6774</td>\n      <td>Bronchus and lung</td>\n      <td>Female</td>\n      <td>75</td>\n      <td>9</td>\n      <td>4</td>\n      <td>...</td>\n      <td>TCGA</td>\n      <td>Adenomas and Adenocarcinomas</td>\n      <td>56 years 8 days</td>\n      <td>--</td>\n      <td>Alive</td>\n      <td>Adenocarcinoma, NOS</td>\n      <td>not hispanic or latino</td>\n      <td>white</td>\n      <td>3cd897bd-893e-4497-b9a5-56141816cff4/525e9185-...</td>\n      <td>80f7616d-b100-45a1-92c5-e804690ccbd6/3fa65836-...</td>\n    </tr>\n    <tr>\n      <th>4</th>\n      <td>4</td>\n      <td>4</td>\n      <td>Case Actions</td>\n      <td>f77b6930-a1ce-446e-a15d-c018cbbecfee</td>\n      <td>TCGA-49-4510</td>\n      <td>Bronchus and lung</td>\n      <td>Female</td>\n      <td>79</td>\n      <td>10</td>\n      <td>4</td>\n      <td>...</td>\n      <td>TCGA</td>\n      <td>Adenomas and Adenocarcinomas</td>\n      <td>51 years 135 days</td>\n      <td>2 years 166 days</td>\n      <td>Dead</td>\n      <td>Adenocarcinoma, NOS</td>\n      <td>not hispanic or latino</td>\n      <td>black or african american</td>\n      <td>951f2356-17f4-4f4f-a8ec-855c7e93dce1/7eab2708-...</td>\n      <td>0da50c40-ffa7-4bfc-8e87-02d456940500/285301af-...</td>\n    </tr>\n  </tbody>\n</table>\n<p>5 rows × 26 columns</p>\n</div>"
     },
     "execution_count": 25,
     "metadata": {},
     "output_type": "execute_result"
    }
   ],
   "source": [
    "# read table: one patient per row\n",
    "expression_root_dir = tcga_path + \"/gene_expression_and_mutation/\"\n",
    "assmbled_info = get_assembled_table()\n",
    "assmbled_info.head()"
   ],
   "metadata": {
    "collapsed": false
   }
  },
  {
   "cell_type": "code",
   "execution_count": 26,
   "outputs": [],
   "source": [
    "def encode_expression(exp_dir):\n",
    "    # read expression data\n",
    "    expression_table = pd.read_csv(exp_dir, sep=\"\\t\")\n",
    "    print(exp_dir)\n"
   ],
   "metadata": {
    "collapsed": false
   }
  },
  {
   "cell_type": "code",
   "execution_count": 27,
   "outputs": [],
   "source": [
    "def process_row(patient):\n",
    "    # get basic info\n",
    "    #print(patient)\n",
    "\n",
    "    # get expression file path\n",
    "    exp_dir = expression_root_dir + patient[\"RNA_Seq\"]\n",
    "    exist_flag, message = (exp_dir)\n",
    "    print(message) # log later\n",
    "\n",
    "    # get content\n",
    "    if exist_flag:\n",
    "        expression_df = pd.read_csv(exp_dir, skiprows=1)\n",
    "        expression_df.head()\n",
    "\n",
    "    return expression_df\n",
    "\n",
    "\n"
   ],
   "metadata": {
    "collapsed": false
   }
  },
  {
   "cell_type": "code",
   "execution_count": 28,
   "outputs": [
    {
     "ename": "NameError",
     "evalue": "name 'check_path_with_log' is not defined",
     "output_type": "error",
     "traceback": [
      "\u001B[0;31m---------------------------------------------------------------------------\u001B[0m",
      "\u001B[0;31mNameError\u001B[0m                                 Traceback (most recent call last)",
      "Input \u001B[0;32mIn [28]\u001B[0m, in \u001B[0;36m<cell line: 2>\u001B[0;34m()\u001B[0m\n\u001B[1;32m      1\u001B[0m \u001B[38;5;66;03m# for every patient\u001B[39;00m\n\u001B[1;32m      2\u001B[0m \u001B[38;5;28;01mfor\u001B[39;00m index, patient \u001B[38;5;129;01min\u001B[39;00m assmbled_info[\u001B[38;5;241m0\u001B[39m:\u001B[38;5;241m1\u001B[39m]\u001B[38;5;241m.\u001B[39miterrows():\n\u001B[0;32m----> 3\u001B[0m     encoded \u001B[38;5;241m=\u001B[39m \u001B[43mprocess_row\u001B[49m\u001B[43m(\u001B[49m\u001B[43mpatient\u001B[49m\u001B[43m)\u001B[49m\n",
      "Input \u001B[0;32mIn [27]\u001B[0m, in \u001B[0;36mprocess_row\u001B[0;34m(patient)\u001B[0m\n\u001B[1;32m      1\u001B[0m \u001B[38;5;28;01mdef\u001B[39;00m \u001B[38;5;21mprocess_row\u001B[39m(patient):\n\u001B[1;32m      2\u001B[0m     \u001B[38;5;66;03m# get basic info\u001B[39;00m\n\u001B[1;32m      3\u001B[0m     \u001B[38;5;66;03m#print(patient)\u001B[39;00m\n\u001B[1;32m      4\u001B[0m \n\u001B[1;32m      5\u001B[0m     \u001B[38;5;66;03m# get expression file path\u001B[39;00m\n\u001B[1;32m      6\u001B[0m     exp_dir \u001B[38;5;241m=\u001B[39m expression_root_dir \u001B[38;5;241m+\u001B[39m patient[\u001B[38;5;124m\"\u001B[39m\u001B[38;5;124mRNA_Seq\u001B[39m\u001B[38;5;124m\"\u001B[39m]\n\u001B[0;32m----> 7\u001B[0m     exist_flag, message \u001B[38;5;241m=\u001B[39m \u001B[43mcheck_path_with_log\u001B[49m(exp_dir)\n\u001B[1;32m      8\u001B[0m     \u001B[38;5;28mprint\u001B[39m(message) \u001B[38;5;66;03m# log later\u001B[39;00m\n\u001B[1;32m     10\u001B[0m     \u001B[38;5;66;03m# get content\u001B[39;00m\n",
      "\u001B[0;31mNameError\u001B[0m: name 'check_path_with_log' is not defined"
     ]
    }
   ],
   "source": [
    "# for every patient\n",
    "for index, patient in assmbled_info[0:1].iterrows():\n",
    "    encoded = process_row(patient)\n"
   ],
   "metadata": {
    "collapsed": false
   }
  },
  {
   "cell_type": "code",
   "execution_count": 28,
   "outputs": [],
   "source": [],
   "metadata": {
    "collapsed": false
   }
  },
  {
   "cell_type": "code",
   "execution_count": null,
   "outputs": [],
   "source": [],
   "metadata": {
    "collapsed": false
   }
  }
 ],
 "metadata": {
  "kernelspec": {
   "display_name": "Python 3",
   "language": "python",
   "name": "python3"
  },
  "language_info": {
   "codemirror_mode": {
    "name": "ipython",
    "version": 2
   },
   "file_extension": ".py",
   "mimetype": "text/x-python",
   "name": "python",
   "nbconvert_exporter": "python",
   "pygments_lexer": "ipython2",
   "version": "2.7.6"
  }
 },
 "nbformat": 4,
 "nbformat_minor": 0
}
